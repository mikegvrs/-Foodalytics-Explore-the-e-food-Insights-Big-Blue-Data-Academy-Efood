{
 "cells": [
  {
   "cell_type": "code",
   "execution_count": null,
   "id": "31969683",
   "metadata": {},
   "outputs": [],
   "source": [
    "#Import libraries\n",
    "import datetime as dt\n",
    "import numpy as np\n",
    "import pandas as pd\n",
    "import matplotlib.pyplot as plt\n",
    "import seaborn as sns\n",
    "import warnings\n",
    "import squarify as sq\n",
    "from matplotlib.ticker import PercentFormatter\n",
    "from fim import arules\n",
    "from operator import attrgetter\n",
    "import matplotlib.colors as mcolors\n",
    "warnings.filterwarnings(\"ignore\")\n",
    "import matplotlib.ticker as tkr\n",
    "import plotly.graph_objects as go\n",
    "import plotly.express as px"
   ]
  },
  {
   "cell_type": "code",
   "execution_count": null,
   "id": "00f26229",
   "metadata": {},
   "outputs": [],
   "source": [
    "df = pd.read_csv('data extract for customer segmentation efood market.csv')"
   ]
  },
  {
   "cell_type": "code",
   "execution_count": null,
   "id": "b3c7437b",
   "metadata": {},
   "outputs": [],
   "source": [
    "df.head(10)"
   ]
  },
  {
   "cell_type": "code",
   "execution_count": null,
   "id": "f6c7d059",
   "metadata": {},
   "outputs": [],
   "source": [
    "df.info()"
   ]
  },
  {
   "cell_type": "code",
   "execution_count": null,
   "id": "2c9a0d72",
   "metadata": {},
   "outputs": [],
   "source": [
    "df.describe()"
   ]
  },
  {
   "cell_type": "code",
   "execution_count": null,
   "id": "be9b64a8",
   "metadata": {},
   "outputs": [],
   "source": [
    "df.isnull().sum() * 100 / len(df)"
   ]
  },
  {
   "cell_type": "code",
   "execution_count": null,
   "id": "3bf4e565",
   "metadata": {},
   "outputs": [],
   "source": [
    "df.describe()"
   ]
  },
  {
   "cell_type": "code",
   "execution_count": null,
   "id": "9b4fec3c",
   "metadata": {},
   "outputs": [],
   "source": [
    "df.dtypes"
   ]
  },
  {
   "cell_type": "code",
   "execution_count": null,
   "id": "b77f6ccb",
   "metadata": {},
   "outputs": [],
   "source": [
    "df.duplicated().sum()  "
   ]
  },
  {
   "cell_type": "markdown",
   "id": "8393c1ef",
   "metadata": {},
   "source": [
    "# Cleaning Steps"
   ]
  },
  {
   "cell_type": "code",
   "execution_count": null,
   "id": "d614c478",
   "metadata": {},
   "outputs": [],
   "source": [
    "#Remove the missing observations from the dataset\n",
    "\n",
    "df = df.dropna(subset=['items_sold'])\n",
    "\n",
    "df.dropna(inplace=True)\n",
    "\n"
   ]
  },
  {
   "cell_type": "code",
   "execution_count": null,
   "id": "9bc2550b",
   "metadata": {},
   "outputs": [],
   "source": [
    "#df['total_sales'] = df['product_price'] * df['items_sold']\n",
    "\n",
    "df['order_timestamp'] = pd.to_datetime(df['order_timestamp'])\n",
    "\n",
    "df['registered_at'] = pd.to_datetime(df['registered_at'])\n",
    "\n",
    "df['items_sold'] = df['items_sold'].astype(int)"
   ]
  },
  {
   "cell_type": "markdown",
   "id": "6890f9de",
   "metadata": {},
   "source": [
    "# EDA"
   ]
  },
  {
   "cell_type": "code",
   "execution_count": null,
   "id": "0dea0f55",
   "metadata": {},
   "outputs": [],
   "source": [
    "#How many unique items in the dataset?\n",
    "\n",
    "unique_items = df['product_name'].nunique()\n",
    "\n",
    "print(\"Number of unique items:\", unique_items)"
   ]
  },
  {
   "cell_type": "code",
   "execution_count": null,
   "id": "bdbfb0b4",
   "metadata": {},
   "outputs": [],
   "source": [
    "#How many products in the dataset?\n",
    "\n",
    "df[\"product_name\"].value_counts()"
   ]
  },
  {
   "cell_type": "code",
   "execution_count": null,
   "id": "48fb6877",
   "metadata": {},
   "outputs": [],
   "source": [
    "#Examine number of transactions per customer \n",
    "\n",
    "customer_counts = df[\"customer_id\"].value_counts().sort_values(ascending=False).reset_index()\n",
    "\n",
    "customer_counts.columns = ['Customer_ID', 'Count']\n",
    "\n",
    "customer_counts"
   ]
  },
  {
   "cell_type": "code",
   "execution_count": null,
   "id": "6814d712",
   "metadata": {},
   "outputs": [],
   "source": [
    "# Examine and Plot top25 customers\n",
    "\n",
    "customer_counts_top25 = customer_counts.head(25)\n",
    "\n",
    "fig, ax = plt.subplots(figsize = (10, 5))\n",
    "\n",
    "sns.barplot(data=customer_counts_top25,x = customer_counts_top25[\"Count\"],y = customer_counts_top25[\"Customer_ID\"],\n",
    "            order = customer_counts_top25[\"Customer_ID\"],  orient = 'h', palette = \"Reds_r\")\n",
    "\n",
    "plt.title(\"Customers that have most transactions\")\n",
    "plt.ylabel(\"Customers\")\n",
    "plt.xlabel(\"Transaction Count\")\n",
    "\n",
    "plt.show()"
   ]
  },
  {
   "cell_type": "code",
   "execution_count": null,
   "id": "bcf1d4f3",
   "metadata": {},
   "outputs": [],
   "source": [
    "#Examine Total Sales per Product\n",
    "\n",
    "product_sales = df.groupby('product_name')['order_value'].sum()\n",
    "\n",
    "print(product_sales)"
   ]
  },
  {
   "cell_type": "code",
   "execution_count": null,
   "id": "99f4e4ca",
   "metadata": {},
   "outputs": [],
   "source": [
    "product_sales_sorted = product_sales.sort_values(ascending=False)\n",
    "\n",
    "print(product_sales_sorted)"
   ]
  },
  {
   "cell_type": "code",
   "execution_count": null,
   "id": "82f21a14",
   "metadata": {},
   "outputs": [],
   "source": [
    "# Examine and Plot top10 Products according to Total Sales\n",
    "\n",
    "\n",
    "\n",
    "product_sales = df.groupby('product_name')['order_value'].sum()\n",
    "\n",
    "sorted_product_sales = product_sales.sort_values(ascending=False)\n",
    "\n",
    "top_10_products = sorted_product_sales.head(10)\n",
    "\n",
    "\n",
    "fig = go.Figure(data=go.Bar(\n",
    "    x=top_10_products.index,\n",
    "    y=top_10_products.values,\n",
    "    text=top_10_products.values,\n",
    "    textposition='auto'\n",
    "))\n",
    "\n",
    "fig.update_layout(\n",
    "    title='Top 10 Products by Total Sales',\n",
    "    xaxis_title='Product',\n",
    "    yaxis_title='Total Sales',\n",
    "    xaxis_tickangle=-45,\n",
    ")\n",
    "\n",
    "fig.show()"
   ]
  },
  {
   "cell_type": "markdown",
   "id": "39e854c3",
   "metadata": {},
   "source": [
    "# Market Basket Analysis / Association Rules"
   ]
  },
  {
   "cell_type": "code",
   "execution_count": null,
   "id": "af82dbee",
   "metadata": {},
   "outputs": [],
   "source": [
    "# inputs\n",
    "supp = 2 # minimum support of an assoc. rule (default: 10)\n",
    "conf = 20 # minimum confidence of an assoc. rule (default: 80%)\n",
    "report = 'aSCl'"
   ]
  },
  {
   "cell_type": "code",
   "execution_count": null,
   "id": "15cf351b",
   "metadata": {},
   "outputs": [],
   "source": [
    "report_colnames = {\n",
    "    'a': 'Support',\n",
    "    's': 'support_itemset_relative',\n",
    "    'S': 'support_itemset_relative_pct',\n",
    "    'b': 'support_bodyset_absolute',\n",
    "    'x': 'support_bodyset_relative',\n",
    "    'X': 'support_bodyset_relative_pct',\n",
    "    'h': 'support_headitem_absolute',\n",
    "    'y': 'support_headitem_relative',\n",
    "    'Y': 'support_headitem_relative_pct',\n",
    "    'c': 'confidence',\n",
    "    'C': 'Confidence',\n",
    "    'l': 'Lift',\n",
    "    'L': 'lift_pct',\n",
    "    'e': 'evaluation',\n",
    "    'E': 'evaluation_pct',\n",
    "    'Q': 'support of the empty set (total number of transactions)'\n",
    "    }"
   ]
  },
  {
   "cell_type": "code",
   "execution_count": null,
   "id": "70f3b9bb",
   "metadata": {},
   "outputs": [],
   "source": [
    "# display docs\n",
    "#??arules"
   ]
  },
  {
   "cell_type": "code",
   "execution_count": null,
   "id": "f27159ec",
   "metadata": {},
   "outputs": [],
   "source": [
    "??arules"
   ]
  },
  {
   "cell_type": "code",
   "execution_count": null,
   "id": "cdf19981",
   "metadata": {},
   "outputs": [],
   "source": [
    "Customers_Products=df.groupby('customer_id')['product_name'].apply(list)\n",
    "Customers_Products"
   ]
  },
  {
   "cell_type": "code",
   "execution_count": null,
   "id": "75341147",
   "metadata": {},
   "outputs": [],
   "source": [
    "# Create list only with Customers and Products\n",
    "Customers_Products=df.groupby('customer_id')['product_name'].apply(list)\n",
    "\n",
    "\n",
    "# Create list of lists to pass it into PyFim\n",
    "\n",
    "Customers_Products_List=Customers_Products.to_list()\n",
    "Customers_Products_List"
   ]
  },
  {
   "cell_type": "code",
   "execution_count": null,
   "id": "f46b0201",
   "metadata": {},
   "outputs": [],
   "source": [
    "# Run apriori algorithm to creeate associations\n",
    "result = arules(Customers_Products_List, supp=supp, conf=conf, report=report)\n",
    "\n",
    "#Uncomment and run in case you want to see parameters of association rules\n",
    "##??arules\n",
    "\n",
    "\n",
    "#Creat dataframe wiht columns based on the report variables and sorted based on the \"Associations_Sorted_based_on\"\n",
    "colnames = ['Cons_Product', 'Product'] + [report_colnames.get(k, k) for k in list(report)]\n",
    "df_rules = pd.DataFrame(result, columns=colnames)\n",
    "df_rules = df_rules.sort_values(report_colnames[\"a\"], ascending=False)\n",
    "\n",
    "#Change order of columns antecedent and consequent\n",
    "df_rules = df_rules[['Product', 'Cons_Product']+ [report_colnames.get(k, k) for k in list(report)]]\n",
    "\n",
    "\n",
    "#Print the numbers of rules created\n",
    "print(df_rules.shape)\n",
    "\n",
    "#Print top 10 and last 10 rules (the last 10 will be shown)\n",
    "df_rules.head(10)"
   ]
  },
  {
   "cell_type": "code",
   "execution_count": null,
   "id": "244aeaee",
   "metadata": {},
   "outputs": [],
   "source": [
    "df_rules.to_csv('Support.csv')"
   ]
  },
  {
   "cell_type": "code",
   "execution_count": null,
   "id": "332943ac",
   "metadata": {},
   "outputs": [],
   "source": [
    "df_rules[df_rules['Lift'] < 2]"
   ]
  },
  {
   "cell_type": "code",
   "execution_count": null,
   "id": "ba6a7e61",
   "metadata": {},
   "outputs": [],
   "source": [
    "df_rules.sort_values(by=['Confidence'], ascending=False).head(10)"
   ]
  },
  {
   "cell_type": "code",
   "execution_count": null,
   "id": "afc35b3e",
   "metadata": {},
   "outputs": [],
   "source": [
    "df_rules.sort_values(by=['Support'], ascending=False).head(5)"
   ]
  },
  {
   "cell_type": "code",
   "execution_count": null,
   "id": "e4016be4",
   "metadata": {},
   "outputs": [],
   "source": [
    "df_rules.sort_values(by=['Lift'], ascending=False).head(10)"
   ]
  },
  {
   "cell_type": "markdown",
   "id": "2ff5d4e1",
   "metadata": {},
   "source": [
    "# What percentage of Orders do the top 10 users of each city contribute to their city?"
   ]
  },
  {
   "cell_type": "code",
   "execution_count": null,
   "id": "83197c59",
   "metadata": {},
   "outputs": [],
   "source": [
    "# Filter cities with more than 1000 orders\n",
    "filtered_cities = df.groupby('geographical_region_of_user').filter(lambda x: x['order_id'].nunique() > 1000)\n",
    "\n",
    "# Group by city and user, count the orders and calculate the sum of their amounts\n",
    "city_user_orders = filtered_cities.groupby(['geographical_region_of_user', 'customer_id']).agg({'order_id': 'nunique', 'purchase_price': 'sum'})\n",
    "\n",
    "# Reset index for easier manipulation\n",
    "city_user_orders = city_user_orders.reset_index()\n",
    "\n",
    "# Sort by city and order count, and keep only the top 10 users per city\n",
    "top_users = city_user_orders.groupby('geographical_region_of_user').apply(lambda x: x.nlargest(10, 'order_id')).reset_index(drop=True)\n",
    "\n",
    "# Calculate the total orders for each city\n",
    "city_total_orders = filtered_cities.groupby('geographical_region_of_user')['order_id'].nunique().reset_index(name='total_orders')\n",
    "\n",
    "# Merge the top_users DataFrame with city_total_orders\n",
    "top_users_with_total = pd.merge(top_users, city_total_orders, on='geographical_region_of_user')\n",
    "\n",
    "# Calculate the percentage of each user's orders to the total orders of their city\n",
    "top_users_with_total['percentage'] = (top_users_with_total['order_id'] / top_users_with_total['total_orders']) * 100\n",
    "\n",
    "city_percentage = top_users_with_total.groupby('geographical_region_of_user')['percentage'].sum().reset_index()\n",
    "\n",
    "# Sort the DataFrame by the sum of percentages in descending order\n",
    "city_percentage = city_percentage.sort_values('percentage', ascending=False)\n",
    "\n",
    "# Reset the index starting from 1\n",
    "city_percentage = city_percentage.reset_index(drop=True)\n",
    "city_percentage.index += 1\n",
    "\n",
    "# Display the result\n",
    "city_percentage"
   ]
  },
  {
   "cell_type": "code",
   "execution_count": null,
   "id": "d7227022",
   "metadata": {},
   "outputs": [],
   "source": [
    "plt.figure(figsize=(12, 6))\n",
    "plt.bar(city_percentage['geographical_region_of_user'], city_percentage['percentage'])\n",
    "plt.xticks(rotation=45)\n",
    "plt.xlabel('Πόλεις')\n",
    "plt.ylabel('% Συμμετοχής')\n",
    "plt.title('% Συμμετοχής Τοπ Χρηστών ανά Πόλη')\n",
    "\n",
    "plt.show()\n",
    "None"
   ]
  },
  {
   "cell_type": "markdown",
   "id": "c057d614",
   "metadata": {},
   "source": [
    "# Cohort Analysis"
   ]
  },
  {
   "cell_type": "code",
   "execution_count": null,
   "id": "3d613a80",
   "metadata": {},
   "outputs": [],
   "source": [
    " #Create the cohort and order_month variables\n",
    "df['order_month'] = df['order_timestamp'].dt.to_period('M')\n",
    "\n",
    "df['cohort']= df.groupby('customer_id')['order_timestamp'].transform('min').dt.to_period('M')\n",
    "\n",
    "df"
   ]
  },
  {
   "cell_type": "code",
   "execution_count": null,
   "id": "a71ad533",
   "metadata": {},
   "outputs": [],
   "source": [
    "#We aggregate the data per cohort and order_month and count the number of unique customers in each group.\n",
    "\n",
    "df_cohort = df.groupby(['cohort', 'order_month']).agg(n_customers=('customer_id',\n",
    "                                                                   'nunique')).reset_index(drop=False)"
   ]
  },
  {
   "cell_type": "code",
   "execution_count": null,
   "id": "189a5220",
   "metadata": {},
   "outputs": [],
   "source": [
    "df_cohort['period_number'] = (df_cohort.order_month - df_cohort.cohort).apply(attrgetter('n'))\n",
    "\n",
    "df_cohort\n"
   ]
  },
  {
   "cell_type": "code",
   "execution_count": null,
   "id": "31560cc7",
   "metadata": {},
   "outputs": [],
   "source": [
    "# We aggregate the data per cohort and order_month and count the number of unique customers in each group.\n",
    "\n",
    "cohort_pivot = df_cohort.pivot_table(index='cohort', \n",
    "                                     columns='period_number', \n",
    "                                     values='n_customers')\n",
    "cohort_pivot"
   ]
  },
  {
   "cell_type": "code",
   "execution_count": null,
   "id": "b5bfad8b",
   "metadata": {},
   "outputs": [],
   "source": [
    "cohort_size = cohort_pivot.iloc[:, 0]\n",
    "retention_matrix = cohort_pivot.divide(cohort_size, axis=0)"
   ]
  },
  {
   "cell_type": "code",
   "execution_count": null,
   "id": "0babe2ec",
   "metadata": {},
   "outputs": [],
   "source": [
    "with sns.axes_style(\"white\"):\n",
    "    fig, ax = plt.subplots(1, 2, figsize=(12, 8), sharey=True, gridspec_kw={'width_ratios': [1, 11]})\n",
    "    \n",
    "    # retention matrix\n",
    "    sns.heatmap(retention_matrix, \n",
    "                mask=retention_matrix.isnull(), \n",
    "                annot=True, \n",
    "                fmt='.0%', \n",
    "                cmap='RdYlGn', \n",
    "                ax=ax[1])\n",
    "    ax[1].set_title('Monthly Cohorts: User Retention', fontsize=16)\n",
    "    ax[1].set(xlabel='# of periods',\n",
    "              ylabel='')\n",
    "\n",
    "    # cohort size\n",
    "    cohort_size_df = pd.DataFrame(cohort_size).rename(columns={0: 'cohort_size'})\n",
    "    white_cmap = mcolors.ListedColormap(['grey'])\n",
    "    sns.heatmap(cohort_size_df, \n",
    "                annot=True, \n",
    "                cbar=False, \n",
    "                fmt='g', \n",
    "                cmap=white_cmap, \n",
    "                ax=ax[0])\n",
    "\n",
    "    fig.tight_layout()"
   ]
  },
  {
   "cell_type": "markdown",
   "id": "f4b5d9fc",
   "metadata": {},
   "source": [
    "# RFM_Pareto"
   ]
  },
  {
   "cell_type": "code",
   "execution_count": null,
   "id": "a98f96cb",
   "metadata": {},
   "outputs": [],
   "source": [
    "df['Total_Sales'] = df['product_price'] * df['items_sold']"
   ]
  },
  {
   "cell_type": "code",
   "execution_count": null,
   "id": "6c6f26bb",
   "metadata": {},
   "outputs": [],
   "source": [
    "df['order_timestamp'].max()"
   ]
  },
  {
   "cell_type": "code",
   "execution_count": null,
   "id": "8b0de29e",
   "metadata": {},
   "outputs": [],
   "source": [
    "df['order_timestamp'].min()"
   ]
  },
  {
   "cell_type": "code",
   "execution_count": null,
   "id": "bac6cd98",
   "metadata": {},
   "outputs": [],
   "source": [
    "# Find Recency. Take as reference day the maximum date\n",
    "df[\"Recency\"] = (df[\"order_timestamp\"].max()- df[\"order_timestamp\"]).dt.days\n",
    "df.head()"
   ]
  },
  {
   "cell_type": "code",
   "execution_count": null,
   "id": "ef93e9ff",
   "metadata": {},
   "outputs": [],
   "source": [
    "df['Recency'].max()"
   ]
  },
  {
   "cell_type": "code",
   "execution_count": null,
   "id": "4f27e050",
   "metadata": {},
   "outputs": [],
   "source": [
    "# For each customer find:\n",
    "\n",
    "# Recency : minimum Recency\n",
    "\n",
    "# Frequency: count unique number of days of purchases\n",
    "\n",
    "# Monetary: summary of Total Sales\n",
    "\n",
    "df_rfm = df.groupby([\"customer_id\"]).agg({\"Recency\":np.min,\n",
    "                                           \"order_timestamp\":pd.Series.nunique,\n",
    "                                           \"Total_Sales\":np.sum}).reset_index()\n",
    "df_rfm"
   ]
  },
  {
   "cell_type": "code",
   "execution_count": null,
   "id": "d1250824",
   "metadata": {},
   "outputs": [],
   "source": [
    "df_rfm.rename(columns={\"order_timestamp\":\"Frequency\",\"Total_Sales\":\"Monetary\"},inplace=True)\n",
    "df_rfm"
   ]
  },
  {
   "cell_type": "code",
   "execution_count": null,
   "id": "e9d41bbb",
   "metadata": {},
   "outputs": [],
   "source": [
    "# Create Scores RFM scores based on quantiles of distribution\n",
    "\n",
    "\n",
    "#Date from customer's last purchase.The nearest date gets 4 and the furthest date gets 1.\n",
    "df_rfm[\"recency_score\"] = pd.qcut(df_rfm[\"Recency\"].rank(method=\"first\"),4,labels=[4,3,2,1])\n",
    "\n",
    "\n",
    "# Total number of purchases.The least frequency gets 1 and the maximum frequency gets 4.\n",
    "df_rfm[\"frequency_score\"] = pd.qcut(df_rfm[\"Frequency\"].rank(method=\"first\"),4,labels=[1,2,3,4])\n",
    "\n",
    "\n",
    "#Total spend by the customer.The least money gets 1, the most money gets 4.\n",
    "df_rfm[\"monetary_score\"] = pd.qcut(df_rfm[\"Monetary\"].rank(method=\"first\"),4,labels=[1,2,3,4])"
   ]
  },
  {
   "cell_type": "code",
   "execution_count": null,
   "id": "1d9ec164",
   "metadata": {},
   "outputs": [],
   "source": [
    "df_rfm[\"RFM_Segment\"] = df_rfm[\"recency_score\"].astype(str) + df_rfm[\"frequency_score\"].astype(str) + df_rfm[\"monetary\\\n",
    "_score\"].astype(str)\n",
    "df_rfm"
   ]
  },
  {
   "cell_type": "code",
   "execution_count": null,
   "id": "3556b3a4",
   "metadata": {},
   "outputs": [],
   "source": [
    "df_rfm[\"RFM Score\"] = df_rfm[[\"recency_score\",\"frequency_score\",\"monetary_score\"]].sum(axis=1)\n",
    "df_rfm"
   ]
  },
  {
   "cell_type": "code",
   "execution_count": null,
   "id": "d5e9659f",
   "metadata": {},
   "outputs": [],
   "source": [
    "# Use regex and dictionaries values to categorize numbers from customers\n",
    "\n",
    "segt_map = {\n",
    "    r'[3-4][3-4]4': 'VIP',\n",
    "    r'[2-3-4][1-2-3-4]4': 'Top Recent',\n",
    "    r'1[1-2-3-4]4': 'Top at Risk ',\n",
    "\n",
    "    \n",
    "    \n",
    "    r'[3-4][3-4]3': 'High Promising',\n",
    "    r'[2-3-4][1-2]3': 'High New',\n",
    "    r'2[3-4]3': 'High Loyal',\n",
    "\n",
    "    \n",
    "    \n",
    "    r'[3-4][3-4]2': 'Medium Potential',\n",
    "    r'[2-3-4][1-2]2': 'Medium New',\n",
    "    r'2[3-4]2': 'Medium Loyal',\n",
    "\n",
    "    \n",
    "    \n",
    "    r'4[1-2-3-4]1': 'Low New',\n",
    "    r'[2-3][1-2-3-4]1': 'Low Loyal',\n",
    "    \n",
    "    r'1[1-2-3-4][1-2-3]': 'Need Activation'\n",
    "}"
   ]
  },
  {
   "cell_type": "code",
   "execution_count": null,
   "id": "4c8645b3",
   "metadata": {},
   "outputs": [],
   "source": [
    "df_rfm[\"Segment_labels\"] = df_rfm[\"RFM_Segment\"]\n",
    "df_rfm[\"Segment_labels\"] = df_rfm[\"Segment_labels\"].replace(segt_map, regex=True)\n",
    "df_rfm.head()"
   ]
  },
  {
   "cell_type": "code",
   "execution_count": null,
   "id": "dcab8d1f",
   "metadata": {},
   "outputs": [],
   "source": [
    "df_rfm['customer_id'].nunique()"
   ]
  },
  {
   "cell_type": "markdown",
   "id": "240f6f77",
   "metadata": {},
   "source": [
    "# Calculate Customers per Segments and all Stats per Segment"
   ]
  },
  {
   "cell_type": "code",
   "execution_count": null,
   "id": "0c98e1fa",
   "metadata": {},
   "outputs": [],
   "source": [
    "segements_grouped = df_rfm[[\"Segment_labels\", \"Recency\",\"Frequency\",\"Monetary\"]].\\\n",
    "groupby(\"Segment_labels\").agg([\"mean\",\"count\",\"max\"]).round().reset_index()\n",
    "\n",
    "\n",
    "segements_grouped = df_rfm.groupby([\"Segment_labels\"]).agg({'Monetary': np.sum,\n",
    "                                   \"customer_id\": pd.Series.nunique,\n",
    "                                    \"Recency\": np.mean,                     \n",
    "                                     \"Frequency\": np.mean,\n",
    "                                                        }).reset_index()\n",
    "\n",
    "segements_grouped[\"Monetary%\"] = segements_grouped[\"Monetary\"]/segements_grouped[\"Monetary\"].sum()*100\n",
    "segements_grouped[\"Count%\"] = segements_grouped[\"customer_id\"]/segements_grouped[\"customer_id\"].sum()*100\n",
    "\n",
    "segements_grouped.rename(columns={'Monetary':'TotalMonetary','customer_id':'TotalCustomers',\n",
    "                                 'Recency':'MeanRecency','Frequency':'MeanFrequency',\n",
    "                                 \"Count%\":\"Customers%\"},inplace= True)\n",
    "\n",
    "\n",
    "segements_grouped = segements_grouped.sort_values(by=['Monetary%'], ascending=False)\n",
    "segements_grouped"
   ]
  },
  {
   "cell_type": "code",
   "execution_count": null,
   "id": "48266246",
   "metadata": {},
   "outputs": [],
   "source": [
    "segements_grouped[['Segment_labels', 'TotalMonetary', 'TotalCustomers']]"
   ]
  },
  {
   "cell_type": "code",
   "execution_count": null,
   "id": "99ff8530",
   "metadata": {},
   "outputs": [],
   "source": [
    "segements_grouped.info()"
   ]
  },
  {
   "cell_type": "code",
   "execution_count": null,
   "id": "34a35398",
   "metadata": {},
   "outputs": [],
   "source": [
    "segements_grouped['TotalMonetary'] = segements_grouped['TotalMonetary'] * 1000\n",
    "segements_grouped"
   ]
  },
  {
   "cell_type": "code",
   "execution_count": null,
   "id": "2bb89829",
   "metadata": {},
   "outputs": [],
   "source": [
    "fig, ax = plt.subplots(figsize=(8,6))\n",
    "\n",
    "sns.barplot(\n",
    "    data=segements_grouped,\n",
    "    x=segements_grouped[\"TotalMonetary\"],\n",
    "    y=segements_grouped[\"Segment_labels\"],\n",
    "    #rder=segements_grouped[\"Segment_labels\"],\n",
    "    orient='h',\n",
    "    palette=\"crest\"\n",
    ")\n",
    "\n",
    "#ax.bar_label(ax.containers[0], label_type='edge')  # Adjust label_type parameter\n",
    "plt.title(\" € ανά Κατηγορία\")\n",
    "plt.ylabel(\"Κατηγορία\")\n",
    "plt.xlabel(\"\")\n",
    "\n",
    "\n",
    "x_max=segements_grouped[\"TotalMonetary\"].max()\n",
    "#lt.xlim(0, x_max * 1.1)\n",
    "\n",
    "#lt.tight_layout()\n",
    "\n",
    "plt.show()"
   ]
  },
  {
   "cell_type": "code",
   "execution_count": null,
   "id": "068c63e4",
   "metadata": {},
   "outputs": [],
   "source": [
    "fig, ax = plt.subplots(figsize=(8,6))\n",
    "\n",
    "sns.barplot(\n",
    "    data=segements_grouped,\n",
    "    x=segements_grouped[\"TotalCustomers\"],\n",
    "    y=segements_grouped[\"Segment_labels\"],\n",
    "    order=segements_grouped[\"Segment_labels\"],\n",
    "    orient='h',\n",
    "    palette=\"crest\"\n",
    ")\n",
    "\n",
    "#ax.bar_label(ax.containers[0], label_type='edge')  # Adjust label_type parameter\n",
    "plt.title(\"Πλήθος Χρηστών\")\n",
    "plt.ylabel(\"Κατηγορία\")\n",
    "plt.xlabel(\"\")\n",
    "\n",
    "\n",
    "x_max = segements_grouped[\"TotalCustomers\"].max()\n",
    "plt.xlim(0, x_max * 1.1)\n",
    "\n",
    "plt.tight_layout()\n",
    "\n",
    "plt.show()"
   ]
  },
  {
   "cell_type": "code",
   "execution_count": null,
   "id": "44098591",
   "metadata": {},
   "outputs": [],
   "source": [
    "segements_grouped.to_csv(index=False)"
   ]
  },
  {
   "cell_type": "code",
   "execution_count": null,
   "id": "65a8e9d5",
   "metadata": {},
   "outputs": [],
   "source": [
    "from pathlib import Path  \n",
    "filepath = Path('Maria Vasilaki/PYTHON/BigBlueDataAcademy/BOOTCAMP/Project/out.csv')  \n",
    "filepath.parent.mkdir(parents=True, exist_ok=True)  \n",
    "segements_grouped.to_csv(filepath)"
   ]
  },
  {
   "cell_type": "code",
   "execution_count": null,
   "id": "188c3c1e",
   "metadata": {},
   "outputs": [],
   "source": [
    "# Plot Segments in a Treemap\n",
    "\n",
    "fig = plt.gcf()\n",
    "ax = fig.add_subplot()\n",
    "fig.set_size_inches(13, 8)\n",
    "sq.plot(sizes=segements_grouped[\"Customers%\"], \n",
    "                      label=['VIP', \n",
    "                            \"Top Recent\", \n",
    "                            'High Promising', \n",
    "                            'Need Activation', \n",
    "                            'Top at Risk', \n",
    "                            'High New', \n",
    "                            'High Loyal',\n",
    "                            'Medium New',\n",
    "                            'Medium Potential',\n",
    "                            'Low Loyal',\n",
    "                            'Medium Loyal',\n",
    "                            'Low New'], \n",
    "                            alpha=0.8, \n",
    "                            color=[\"#282828\", \"#04621B\", \"#971194\", \"#F1480F\",  \"#4C00FF\", \n",
    "           \"#FF007B\", \"#9736FF\", \"#8992F3\", \"#B29800\", \"#80004C\", \"blue\", \"cyan\"])#\"#A4E919\"\n",
    "plt.title(\"ALL\", fontsize=18, fontweight=\"bold\")\n",
    "plt.axis('off')\n",
    "plt.show()"
   ]
  },
  {
   "cell_type": "code",
   "execution_count": null,
   "id": "b72b7bb4",
   "metadata": {},
   "outputs": [],
   "source": [
    "# Pie Chart: Percentage of Customers in Each Segment\n",
    "plt.figure(figsize=(8, 8))\n",
    "plt.pie(segements_grouped['Customers%'], labels=segements_grouped['Segment_labels'], autopct='%1.1f%%')\n",
    "plt.title('Customer Segmentation - Percentage of Customers in Each Segment')\n",
    "plt.axis('equal')\n",
    "plt.show()"
   ]
  },
  {
   "cell_type": "code",
   "execution_count": null,
   "id": "7899c73f",
   "metadata": {},
   "outputs": [],
   "source": [
    "# Stacked Bar Chart: Percentage of Customers in Each Segment\n",
    "plt.figure(figsize=(10, 6))\n",
    "segments = segements_grouped['Segment_labels']\n",
    "customers_percentage = segements_grouped['Customers%']\n",
    "\n",
    "# Define colors for each segment\n",
    "colors = ['lightblue', 'lightgreen', 'orange', 'pink']\n",
    "\n",
    "# Create the stacked bar chart\n",
    "plt.barh(segments, customers_percentage, color=colors)\n",
    "plt.xlabel('Percentage of Customers')\n",
    "plt.ylabel('Segment')\n",
    "plt.title('Customer Segmentation - Percentage of Customers in Each Segment')\n",
    "\n",
    "plt.show()"
   ]
  },
  {
   "cell_type": "code",
   "execution_count": null,
   "id": "91c069d2",
   "metadata": {},
   "outputs": [],
   "source": [
    "#Here we'll try to analyze what % of customers produce what % of total sales. \n",
    "#In this way we'll be able to identify our most valuable customers.\n",
    "\n",
    "segements_grouped"
   ]
  },
  {
   "cell_type": "markdown",
   "id": "b861eeaa",
   "metadata": {},
   "source": [
    "##  If we observe our results we will notice that VIP and Top Recent Customers (21% of customers) produce 68% of Monetary Value (Sales), Mention that we examined the pareto that expects 80% and find close to 70, here is the relevant diagram.¶\n",
    "We could apply our graph at first on our created segments and then on individual customers¶"
   ]
  },
  {
   "cell_type": "code",
   "execution_count": null,
   "id": "2dee097f",
   "metadata": {},
   "outputs": [],
   "source": [
    "segments_pareto = segements_grouped[[\"Segment_labels\",\"TotalMonetary\"]]\n",
    "segments_pareto[\"CumulativePercentage\"] = (segments_pareto[\"TotalMonetary\"].cumsum()/ \n",
    "                                      segments_pareto[\"TotalMonetary\"].sum()*100).round(2)"
   ]
  },
  {
   "cell_type": "code",
   "execution_count": null,
   "id": "3f7a1d0a",
   "metadata": {},
   "outputs": [],
   "source": [
    "#define aesthetics for plot\n",
    "color1 = 'steelblue'\n",
    "color2 = 'red'\n",
    "#line_size = 1\n",
    "\n",
    "#create basic bar plot\n",
    "fig, ax = plt.subplots()\n",
    "ax.bar(segments_pareto['Segment_labels'], segments_pareto['TotalMonetary'], color=color1)\n",
    "\n",
    "\n",
    "#add cumulative percentage line to plot\n",
    "ax2 = ax.twinx()\n",
    "ax2.plot(segments_pareto['Segment_labels'], segments_pareto['CumulativePercentage'], color=color2, marker=\"D\", ms=1)\n",
    "ax2.yaxis.set_major_formatter(PercentFormatter())\n",
    "ax2.axhline(80, color = \"#008878\", linestyle = \"dashed\", alpha = 1 )\n",
    "\n",
    "\n",
    "    \n",
    "#specify axis colors\n",
    "ax.tick_params(axis='y', colors=color1, labelsize= 8)\n",
    "#ax.set_xticklabels([])\n",
    "ax2.tick_params(axis='y', colors=color2, labelsize= 8)\n",
    "\n",
    "ax.tick_params(axis='x', labelsize= 6)\n",
    "ax.yaxis.set_major_formatter(tkr.FuncFormatter(lambda y,  p: format(int(y), ',')))\n",
    "\n",
    "#ax.tick_params(axis='x', labelsize= )\n",
    "#display Pareto chart\n",
    "plt.show()"
   ]
  },
  {
   "cell_type": "code",
   "execution_count": null,
   "id": "4576d0de",
   "metadata": {},
   "outputs": [],
   "source": [
    "df_grouped = df.groupby(\"customer_id\").\\\n",
    "    agg({\"Total_Sales\": np.sum\n",
    "        })\n",
    "\n",
    "df_grouped = df_grouped.sort_values(\"Total_Sales\", ascending = False).reset_index()\n",
    "df_grouped"
   ]
  },
  {
   "cell_type": "code",
   "execution_count": null,
   "id": "1730c393",
   "metadata": {},
   "outputs": [],
   "source": [
    "df_grouped[\"CumulativePercentage\"] = (df_grouped[\"Total_Sales\"].cumsum()/ \n",
    "                                      df_grouped[\"Total_Sales\"].sum()*100).round(2)\n",
    "                                      \n",
    "\n",
    "df_grouped"
   ]
  },
  {
   "cell_type": "code",
   "execution_count": null,
   "id": "34d33912",
   "metadata": {},
   "outputs": [],
   "source": [
    " # We focus on the 80.00% part of sales to find what number of customers it is generated from.\n",
    "\n",
    "number_of_customers = df_grouped[(df_grouped[\"CumulativePercentage\"] == 80.00)]\n",
    "number_of_customers "
   ]
  },
  {
   "cell_type": "code",
   "execution_count": null,
   "id": "7e3ee1ca",
   "metadata": {},
   "outputs": [],
   "source": [
    "13092/len(df_grouped)"
   ]
  },
  {
   "cell_type": "code",
   "execution_count": null,
   "id": "d345067b",
   "metadata": {},
   "outputs": [],
   "source": [
    "13086/len(df_grouped)"
   ]
  },
  {
   "cell_type": "markdown",
   "id": "531f3957",
   "metadata": {},
   "source": [
    "## So we see that each of them represent 31% of total customers.\n",
    "In this way we just found out that the highest 31% of customers produce 80% of total Sales.\n",
    "So the Pareto Principle roughly applies to our example. Now let's work in order to porduce also the according plot which will also visualize it."
   ]
  },
  {
   "cell_type": "code",
   "execution_count": null,
   "id": "bd9fa06b",
   "metadata": {},
   "outputs": [],
   "source": [
    "#define aesthetics for plot\n",
    "#color1 = 'steelblue'\n",
    "#color2 = 'red'\n",
    "#line_size = 1\n",
    "\n",
    "#create basic bar plot\n",
    "#fig, ax = plt.subplots()\n",
    "#ax.bar(df_grouped['customer_id'], df_grouped['Total_Sales'], color=color1)\n",
    "\n",
    "\n",
    "#add cumulative percentage line to plot\n",
    "#ax2 = ax.twinx()\n",
    "#ax2.plot(df_grouped['customer_id'], df_grouped['CumulativePercentage'], color=color2, marker=\"D\", ms=1)\n",
    "#ax2.yaxis.set_major_formatter(PercentFormatter())\n",
    "#ax2.axhline(80, color = \"#008878\", linestyle = \"dashed\", alpha = 1 )\n",
    "\n",
    "\n",
    "    \n",
    "#specify axis colors\n",
    "#ax.tick_params(axis='y', colors=color1, labelsize= 8)\n",
    "#ax.set_xticklabels([])\n",
    "\n",
    "#ax2.tick_params(axis='y', colors=color2, labelsize= 8)\n",
    "\n",
    "#ax.tick_params(axis='x', labelsize= 1)\n",
    "\n",
    "#ax.tick_params(axis='x', labelsize= )\n",
    "#display Pareto chart\n",
    "#plt.show()"
   ]
  },
  {
   "cell_type": "markdown",
   "id": "e82036d0",
   "metadata": {},
   "source": [
    "# Patterns"
   ]
  },
  {
   "cell_type": "code",
   "execution_count": null,
   "id": "4263ee30",
   "metadata": {
    "scrolled": true
   },
   "outputs": [],
   "source": [
    "df['order_month'] = df['order_timestamp'].dt.to_period('M')\n",
    "\n",
    "metrics_df = df.groupby('order_month').agg(total_sales=('order_value', 'sum'),\n",
    "                                           num_orders=('order_id', 'count'),\n",
    "                                           avg_order_value=('order_value', 'mean'))\n",
    "\n",
    "\n",
    "\n",
    "metrics_df['order_month_str'] = metrics_df.index.astype(str)\n",
    "\n",
    "fig = px.line(metrics_df, x='order_month_str', y=['total_sales', 'num_orders', 'avg_order_value'],\n",
    "              labels={'value': 'Metrics', 'order_month_str': 'Order Month'},\n",
    "              title='Total Sales over Time')\n",
    "fig.update_layout(xaxis_tickangle=-45)\n",
    "fig.show()"
   ]
  },
  {
   "cell_type": "code",
   "execution_count": null,
   "id": "740284ed",
   "metadata": {},
   "outputs": [],
   "source": [
    "# Calculate total sales by product category\n",
    "\n",
    "\n",
    "category_metrics = df.groupby('product_category').agg(total_sales=('order_value', 'sum')).reset_index()\n",
    "\n",
    "\n",
    "top_categories = category_metrics.nlargest(5, 'total_sales')\n",
    "\n",
    "\n",
    "df_top_categories = df[df['product_category'].isin(top_categories['product_category'])]\n",
    "\n",
    "\n",
    "df_top_categories['order_month_str'] = df_top_categories['order_month'].astype(str)\n",
    "\n",
    "\n",
    "category_metrics_top = df_top_categories.groupby(['order_month_str', 'product_category']).agg(total_sales=('order_value', 'sum')).reset_index()\n",
    "\n",
    "\n",
    "fig = px.line(category_metrics_top, x='order_month_str', y='total_sales', color='product_category',\n",
    "              labels={'order_month_str': 'Order Month', 'total_sales': 'Total Sales'},\n",
    "              title='Purchase Patterns by Top 10 Product Categories')\n",
    "\n",
    "fig.show()\n"
   ]
  },
  {
   "cell_type": "code",
   "execution_count": null,
   "id": "6effe3eb",
   "metadata": {},
   "outputs": [],
   "source": [
    "total_unique_orders = df['order_id'].nunique()\n",
    "print(\"Total Unique Orders:\", total_unique_orders)"
   ]
  },
  {
   "cell_type": "code",
   "execution_count": null,
   "id": "4483148b",
   "metadata": {},
   "outputs": [],
   "source": []
  }
 ],
 "metadata": {
  "kernelspec": {
   "display_name": "Python 3 (ipykernel)",
   "language": "python",
   "name": "python3"
  },
  "language_info": {
   "codemirror_mode": {
    "name": "ipython",
    "version": 3
   },
   "file_extension": ".py",
   "mimetype": "text/x-python",
   "name": "python",
   "nbconvert_exporter": "python",
   "pygments_lexer": "ipython3",
   "version": "3.9.13"
  }
 },
 "nbformat": 4,
 "nbformat_minor": 5
}
